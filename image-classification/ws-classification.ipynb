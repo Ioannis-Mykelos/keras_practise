{
 "cells": [
  {
   "cell_type": "markdown",
   "metadata": {},
   "source": [
    "Create an image classifier"
   ]
  },
  {
   "cell_type": "code",
   "execution_count": 1,
   "metadata": {},
   "outputs": [],
   "source": [
    "#%pip install tensorflow\n",
    "#%pip install pandas"
   ]
  },
  {
   "cell_type": "code",
   "execution_count": 2,
   "metadata": {},
   "outputs": [
    {
     "name": "stdout",
     "output_type": "stream",
     "text": [
      "Tensorflow version 2.9.1\n",
      "Keras version 2.9.0\n"
     ]
    }
   ],
   "source": [
    "import numpy as np\n",
    "import pandas as pd\n",
    "import matplotlib.pyplot as plt\n",
    "from matplotlib.pyplot import figure\n",
    "import tensorflow as tf\n",
    "from tensorflow import keras\n",
    "\n",
    "from src.functions import load_fashion_mnist_data\n",
    "from src.lists import class_names\n",
    "from src.models import (\n",
    "    create_sequential_model,\n",
    "    compile_model,\n",
    "    fit_model,\n",
    ")\n",
    "\n",
    "\n",
    "print('Tensorflow version', tf.__version__)\n",
    "print('Keras version', keras.__version__)"
   ]
  },
  {
   "cell_type": "markdown",
   "metadata": {},
   "source": [
    "## Using Keras to Load the Dataset"
   ]
  },
  {
   "cell_type": "code",
   "execution_count": 3,
   "metadata": {},
   "outputs": [
    {
     "name": "stdout",
     "output_type": "stream",
     "text": [
      "Loading data ... \n",
      "X_train shape (55000, 28, 28)\n",
      "X_train dtype float64\n",
      "X_test shape (10000, 28, 28)\n",
      "X_test dtype uint8\n",
      "X_valid shape (5000, 28, 28)\n",
      "X_valid dtype float64\n",
      "y_train shape (55000,)\n",
      "y_train dtype uint8\n",
      "y_test shape (10000,)\n",
      "y_test dtype uint8\n",
      "y_valid shape (5000,)\n",
      "y_valid dtype uint8\n"
     ]
    }
   ],
   "source": [
    "X_train, X_test, X_valid, y_train, y_test, y_valid = load_fashion_mnist_data()"
   ]
  },
  {
   "cell_type": "code",
   "execution_count": 4,
   "metadata": {},
   "outputs": [
    {
     "name": "stdout",
     "output_type": "stream",
     "text": [
      "The class names are the following:\n",
      " ['T-shirt/top', 'Trouser', 'Pullover', 'Dress', 'Coat', 'Sandal', 'Shirt', 'Sneaker', 'Bag', 'Ankle boot']\n"
     ]
    }
   ],
   "source": [
    "print(\"The class names are the following:\\n\", class_names)"
   ]
  },
  {
   "cell_type": "markdown",
   "metadata": {},
   "source": [
    "Creating the Model Using the Sequential API"
   ]
  },
  {
   "cell_type": "code",
   "execution_count": 5,
   "metadata": {},
   "outputs": [
    {
     "name": "stdout",
     "output_type": "stream",
     "text": [
      "Model: \"sequential\"\n",
      "_________________________________________________________________\n",
      " Layer (type)                Output Shape              Param #   \n",
      "=================================================================\n",
      " flatten (Flatten)           (None, 784)               0         \n",
      "                                                                 \n",
      " dense (Dense)               (None, 300)               235500    \n",
      "                                                                 \n",
      " dense_1 (Dense)             (None, 100)               30100     \n",
      "                                                                 \n",
      " dense_2 (Dense)             (None, 10)                1010      \n",
      "                                                                 \n",
      "=================================================================\n",
      "Total params: 266,610\n",
      "Trainable params: 266,610\n",
      "Non-trainable params: 0\n",
      "_________________________________________________________________\n",
      "None\n",
      "\n",
      "Layers:\n",
      "<keras.layers.reshaping.flatten.Flatten object at 0x0000022F91BE9B70>\n",
      "<keras.layers.core.dense.Dense object at 0x0000022F91BEA140>\n",
      "<keras.layers.core.dense.Dense object at 0x0000022F91BEA620>\n",
      "<keras.layers.core.dense.Dense object at 0x0000022FA21225F0>\n"
     ]
    }
   ],
   "source": [
    "model = create_sequential_model(input_shape_dim=28)"
   ]
  },
  {
   "cell_type": "code",
   "execution_count": 6,
   "metadata": {},
   "outputs": [
    {
     "name": "stdout",
     "output_type": "stream",
     "text": [
      "Weights of layer 4:\n",
      " [[ 0.12369207 -0.09811945  0.12765667  0.16465786  0.18050513  0.04568243\n",
      "   0.13095629  0.10623389  0.06757498 -0.00161345]\n",
      " [ 0.03418505  0.09055024  0.01146755  0.19777352  0.0274848   0.22680625\n",
      "   0.19486693 -0.05102134  0.01101051  0.11507225]\n",
      " [ 0.06867945  0.05680069 -0.22572455  0.21088141 -0.10416229  0.22266409\n",
      "  -0.08246496 -0.22153449 -0.18157238  0.04291055]\n",
      " [ 0.23010027  0.09951258  0.17679572 -0.01439233  0.13403884 -0.03452581\n",
      "   0.03931653 -0.04227121  0.1926282   0.10026196]\n",
      " [-0.06467916 -0.19283001 -0.07605834 -0.10010269  0.21024463 -0.11778364\n",
      "  -0.17612474 -0.10361081 -0.14820394 -0.20219499]\n",
      " [ 0.12672243  0.19817525 -0.1773698   0.16213354  0.09680066  0.00640221\n",
      "  -0.02611603 -0.2333577  -0.17936118 -0.10718518]\n",
      " [-0.01357001 -0.01500601  0.2164346  -0.22484455 -0.1661419   0.03006381\n",
      "   0.07194445  0.00376475  0.03818339  0.08988249]\n",
      " [ 0.20433131  0.10708183 -0.11153077 -0.206362   -0.22926697  0.16661689\n",
      "  -0.08955307 -0.23107438 -0.0132378   0.11550227]\n",
      " [ 0.22678497  0.08928347 -0.17845717  0.0021704  -0.13599274  0.06793731\n",
      "  -0.21593544 -0.05774234 -0.20755282 -0.18697254]\n",
      " [-0.17257798 -0.01788503  0.07366383 -0.15723181  0.01550063  0.057401\n",
      "   0.18409497 -0.07540219 -0.15992077 -0.19216934]\n",
      " [ 0.15217945 -0.20097788 -0.03578709  0.02257389  0.0803566   0.19619364\n",
      "  -0.07182926 -0.2093727  -0.18586957  0.05442154]\n",
      " [-0.11536445 -0.18081866  0.01823971 -0.03372304  0.10215577 -0.1500243\n",
      "  -0.0990656  -0.20925164 -0.13697965  0.21805656]\n",
      " [-0.02559711  0.065211   -0.1351011   0.20367613 -0.17658266  0.04812706\n",
      "  -0.09484515 -0.16171688  0.17395255 -0.10364105]\n",
      " [ 0.08525515 -0.05931999 -0.0967222  -0.08003436  0.0234049  -0.15856819\n",
      "   0.13484624 -0.13633314 -0.08947958  0.14073789]\n",
      " [ 0.0687446   0.04274184  0.12357086 -0.05043127 -0.19353373 -0.00520827\n",
      "   0.0428645  -0.07894304  0.20987734 -0.062418  ]\n",
      " [-0.08706357 -0.2124477   0.17326593  0.2239069  -0.172077    0.10418123\n",
      "  -0.17861792 -0.17558523  0.06703424 -0.20988932]\n",
      " [ 0.13204363 -0.15256543 -0.07719783  0.04560572 -0.14128788 -0.1876835\n",
      "   0.22390127 -0.08056913 -0.16440189  0.02245584]\n",
      " [ 0.10897717  0.08795404  0.01563868  0.02073547 -0.19273874 -0.05765113\n",
      "   0.20492303 -0.01663055  0.00499901 -0.01180588]\n",
      " [-0.12614432 -0.09431984  0.10886982 -0.19804908 -0.19438495 -0.11311577\n",
      "  -0.09794338  0.04462275 -0.01177587 -0.2108431 ]\n",
      " [ 0.06698415 -0.13424347  0.13098335  0.19303524 -0.05583449  0.11363706\n",
      "  -0.1668278   0.06293809 -0.11770485 -0.11646948]\n",
      " [ 0.03340387  0.09718069 -0.19038059  0.11252749 -0.05061102  0.13948789\n",
      "  -0.15940459  0.01778167 -0.13366976 -0.01400869]\n",
      " [ 0.11280423 -0.09178494  0.11723199  0.20996389  0.13794947 -0.17646195\n",
      "   0.02385041  0.0987553  -0.11400725  0.15524817]\n",
      " [ 0.22452661  0.00097907  0.18004194 -0.08718178  0.04040697 -0.20615764\n",
      "   0.03118175 -0.05876674 -0.15705118 -0.20882678]\n",
      " [ 0.12491953 -0.12808922 -0.13403867 -0.01761669 -0.16160384 -0.07472296\n",
      "   0.21747428 -0.16437599 -0.02093142 -0.15137605]\n",
      " [-0.15867893  0.09923398  0.09549835  0.14145797  0.17934775  0.07194021\n",
      "   0.16524413  0.19419107 -0.03098585 -0.11461776]\n",
      " [ 0.20301786  0.06420535  0.14827001 -0.09910074 -0.03431372  0.06650817\n",
      "   0.20042512 -0.14789623 -0.10034302 -0.23096468]\n",
      " [-0.03333594  0.11960217  0.06456167  0.08890784  0.22116712  0.00466408\n",
      "   0.03414762  0.14577362  0.11310151  0.22179174]\n",
      " [ 0.07060033  0.01833606 -0.1330111  -0.13189027  0.16083497  0.21401885\n",
      "  -0.17426862  0.18003038 -0.16112842  0.01001401]\n",
      " [-0.1805256  -0.03005585  0.02170262  0.19901747  0.19130147  0.2315745\n",
      "   0.00692391  0.23061603  0.12497827  0.19300947]\n",
      " [ 0.23182547  0.10117498  0.0976972  -0.02220777  0.03714117 -0.154367\n",
      "   0.05494189 -0.08309835  0.11031181 -0.22245198]\n",
      " [-0.02628073  0.15133294  0.15341738 -0.12424266 -0.0265166   0.03454471\n",
      "   0.21587989 -0.04182547 -0.11423722 -0.19009393]\n",
      " [-0.09527941  0.2269038   0.0118506  -0.02797788 -0.14749053  0.13667467\n",
      "   0.14016098  0.17694923  0.1493907   0.17645693]\n",
      " [ 0.07664514  0.05025831 -0.15484464 -0.1789175   0.13234603  0.17645338\n",
      "   0.10087869 -0.18056726  0.01266132  0.22112796]\n",
      " [ 0.16929755 -0.07661395  0.14386085 -0.07840998 -0.21896046 -0.04527317\n",
      "   0.13050678  0.15000331  0.1555194  -0.15849853]\n",
      " [-0.0579502  -0.05747506 -0.0993114   0.12579235  0.2334455   0.05273086\n",
      "  -0.16020364  0.20331916 -0.13744222  0.03151864]\n",
      " [-0.18685605  0.03463617 -0.04058881  0.20613068 -0.02699748 -0.13410348\n",
      "   0.01492517 -0.01674069  0.12208596  0.22263718]\n",
      " [-0.16870955  0.03170517  0.12598151 -0.02586606  0.00649883  0.22303838\n",
      "   0.12739038 -0.01596136  0.09094805 -0.18800083]\n",
      " [-0.00871415 -0.15085715  0.17938405 -0.17369726 -0.02448753  0.13358468\n",
      "   0.22558445  0.18178242 -0.19032018 -0.20692968]\n",
      " [-0.03752394  0.13946244 -0.07401547  0.09987435 -0.11913361  0.10307202\n",
      "   0.1603469   0.04380456  0.22733617 -0.2045875 ]\n",
      " [ 0.23088014  0.21435356 -0.00175433  0.19580156  0.17417073  0.10236719\n",
      "  -0.14463507 -0.13470569 -0.08625834 -0.20392354]\n",
      " [ 0.00082539 -0.08049859  0.02843019  0.00299256  0.10805145  0.07763433\n",
      "   0.08195457  0.08255902  0.18962964 -0.05405343]\n",
      " [ 0.12661803 -0.07126991  0.2238785   0.03549126 -0.18728754 -0.08544631\n",
      "   0.00424497  0.09610808  0.117845   -0.16359259]\n",
      " [-0.15656    -0.10218021 -0.01150268  0.09880039 -0.15604147 -0.10373621\n",
      "  -0.04610874 -0.01798575  0.18376043  0.16104329]\n",
      " [-0.22388548  0.19250911  0.17011073 -0.16072866  0.00918563  0.02002481\n",
      "  -0.145753    0.02249715  0.1040208   0.104819  ]\n",
      " [-0.14146304 -0.15617138  0.03499961 -0.00025959 -0.06126554 -0.1839042\n",
      "  -0.086915   -0.05165996 -0.05398187  0.15415126]\n",
      " [ 0.11759031  0.07459155  0.04969481 -0.10765336  0.19789568 -0.06246221\n",
      "  -0.12434645 -0.18508434  0.12582147  0.16145882]\n",
      " [ 0.2035861   0.22410914  0.12029526  0.04408747  0.22125012  0.0365237\n",
      "  -0.19938447 -0.04720943 -0.06579778 -0.12295054]\n",
      " [ 0.20948958  0.12416285  0.23103222 -0.04619811 -0.05277105 -0.16533329\n",
      "   0.21659678 -0.20562097 -0.1729574   0.18376645]\n",
      " [ 0.22894475 -0.21359995  0.13180575  0.19908032  0.22926775 -0.02963606\n",
      "  -0.1480732   0.14648089 -0.17343771  0.15898746]\n",
      " [-0.14063165 -0.19751732  0.16283402 -0.08617626 -0.05962892 -0.2079043\n",
      "  -0.07715055  0.08383241 -0.23252797 -0.13782692]\n",
      " [-0.08252175  0.07067299  0.18912667 -0.05723362 -0.12962182 -0.09916684\n",
      "  -0.1487568  -0.12194029 -0.01046225  0.20942682]\n",
      " [-0.08428389 -0.07849357 -0.02031852  0.1754727   0.22706404 -0.00890382\n",
      "   0.15845352  0.08359811  0.20799223 -0.18812048]\n",
      " [-0.0838411  -0.04363304  0.02392504  0.14007077 -0.2264686   0.17314687\n",
      "   0.01234545 -0.23035106 -0.01180738 -0.08911942]\n",
      " [-0.02750669 -0.0336559  -0.09171423 -0.12377548 -0.04792534 -0.08942245\n",
      "   0.05799663 -0.15052116  0.14571574 -0.18173826]\n",
      " [ 0.09930465  0.22336686 -0.21761928 -0.2098489  -0.09867744 -0.21285374\n",
      "  -0.1413199   0.18258953 -0.199812   -0.00296827]\n",
      " [-0.160124   -0.18039486  0.17979601  0.1826764  -0.03261714  0.12737972\n",
      "  -0.14736673 -0.03334062  0.15988195  0.22420493]\n",
      " [-0.19475508  0.14818835  0.05349347 -0.14975853  0.12609771 -0.04791303\n",
      "   0.00447744 -0.12221013  0.12474397  0.10638899]\n",
      " [ 0.16249967 -0.20195656  0.17688307  0.16469628  0.13554645  0.07392186\n",
      "   0.23074886  0.08525693 -0.0988059   0.17638534]\n",
      " [-0.10756539  0.02278978 -0.08985999  0.12573254 -0.22142147 -0.13544014\n",
      "   0.00502296 -0.10566472  0.0269917   0.19938993]\n",
      " [-0.07039748 -0.14766943  0.1412833  -0.11058951 -0.02437605  0.17378023\n",
      "  -0.2300458  -0.18169028 -0.21531308  0.0550929 ]\n",
      " [ 0.03411907  0.07213518 -0.22378068  0.06188831 -0.03084704 -0.07529093\n",
      "  -0.20900509  0.20407751 -0.00802904 -0.03136238]\n",
      " [ 0.22316125  0.12071839 -0.16147682  0.22882223  0.23112705  0.16222897\n",
      "  -0.16613534 -0.00097601  0.03754672 -0.02927829]\n",
      " [-0.11673542 -0.05882993 -0.02468716  0.16127247 -0.1058732   0.08666393\n",
      "   0.03766292  0.00857668  0.16990465 -0.10233429]\n",
      " [-0.19266108  0.20869482  0.22376192  0.21707743 -0.14278612  0.05749223\n",
      "  -0.01162279  0.20034534  0.10856918  0.1722334 ]\n",
      " [ 0.02029464 -0.00083023 -0.00727521 -0.06428939  0.11279726 -0.1494211\n",
      "   0.21841645  0.0518778   0.19408932  0.21451443]\n",
      " [ 0.07746783 -0.1008137  -0.05482513  0.04974091  0.02415866 -0.11572216\n",
      "   0.04085025  0.21251702  0.1768508  -0.17512618]\n",
      " [-0.12454351  0.12247127 -0.22731836 -0.0969808  -0.17716834 -0.06765166\n",
      "   0.1234082   0.22637197  0.0314914   0.23193589]\n",
      " [ 0.09784973 -0.03352727  0.14066541  0.16563353  0.1134679   0.14465985\n",
      "  -0.1917608  -0.00227691 -0.03187761 -0.14911774]\n",
      " [-0.10762069  0.1042943   0.06165767 -0.19439965 -0.18704748 -0.04865561\n",
      "  -0.14002082  0.0316807  -0.10843727 -0.16364387]\n",
      " [-0.11742588 -0.1399408  -0.19765218  0.19782317 -0.19368246 -0.20154351\n",
      "  -0.00505152  0.23168439 -0.20884025  0.04447022]\n",
      " [-0.18321848  0.04837435  0.02194723  0.07429954  0.22130036 -0.2170898\n",
      "  -0.07933961 -0.03443834 -0.00786974 -0.20356952]\n",
      " [ 0.10681707  0.14528015  0.03838378  0.17924279 -0.0704423   0.12068442\n",
      "   0.07495505 -0.10639104 -0.05867831 -0.17541328]\n",
      " [-0.07951    -0.1363461   0.00264715 -0.11957083  0.0805276   0.16877529\n",
      "   0.1943698  -0.18789743  0.00837688  0.19405821]\n",
      " [-0.10004701 -0.12458856 -0.05603801 -0.13201666  0.02874652  0.12368488\n",
      "  -0.11050699  0.08372444 -0.10722016 -0.02615099]\n",
      " [-0.11672802  0.02300152 -0.12016792 -0.05714932 -0.04585016  0.23155802\n",
      "  -0.23341137 -0.08632711 -0.23046754 -0.08826764]\n",
      " [ 0.05534783 -0.08615254  0.1319899   0.10490191  0.00175433  0.18591502\n",
      "  -0.15863834  0.21997723  0.23308629  0.08369917]\n",
      " [-0.0285185  -0.05379155 -0.07471356 -0.04778729  0.08953786  0.17613572\n",
      "  -0.23247367 -0.04221892 -0.07428363  0.11288285]\n",
      " [ 0.06284669  0.12441343 -0.09269312 -0.05188124  0.0441108   0.22176981\n",
      "  -0.19718945  0.0451147   0.11535361 -0.04246143]\n",
      " [-0.02081771  0.21244422  0.12778279  0.19855002  0.04893598 -0.03869288\n",
      "  -0.08565117 -0.15241581 -0.00033833  0.00188714]\n",
      " [-0.00396961  0.22879761 -0.06018357  0.17422608  0.03247347 -0.2171069\n",
      "   0.08165327 -0.22726473  0.08066335  0.11239681]\n",
      " [-0.08914743  0.19276023  0.0889183   0.10294473 -0.08400297 -0.14510229\n",
      "   0.09760946  0.0080815  -0.18626186  0.15768561]\n",
      " [-0.09004408  0.00469622  0.08858839  0.04166973  0.22986707 -0.19106042\n",
      "  -0.15464479  0.13588256 -0.09975986 -0.00615832]\n",
      " [-0.18608896  0.19876578  0.09496942  0.11149508 -0.12002125  0.03302768\n",
      "   0.22036377 -0.13479729  0.07815236 -0.17362168]\n",
      " [ 0.16913083 -0.10939005  0.14329407  0.06246716  0.01122567  0.05138209\n",
      "  -0.20193344  0.17354178 -0.21831371 -0.04595195]\n",
      " [ 0.1998972   0.08627716  0.09520718  0.14941648 -0.09512055 -0.22074236\n",
      "  -0.12375805  0.0100124   0.07602131  0.15656137]\n",
      " [-0.10959713  0.22154963 -0.16728424 -0.11029378  0.00527582  0.08057091\n",
      "   0.14749035 -0.14479053  0.13248068  0.1091226 ]\n",
      " [ 0.08872753 -0.18587181 -0.05594657  0.11717114 -0.0213041   0.04352403\n",
      "   0.20153499  0.16289389  0.206287   -0.01031576]\n",
      " [ 0.11724725  0.02447847  0.19695008 -0.05410677  0.20560694 -0.1148122\n",
      "   0.22742021 -0.23226498  0.03208357  0.16703343]\n",
      " [-0.08817059 -0.106177   -0.19975069 -0.16286471  0.1373133   0.19467306\n",
      "  -0.08770308  0.07142133 -0.03228182  0.13451225]\n",
      " [-0.2314896   0.13672942  0.22043481 -0.19742467  0.02392069  0.06214994\n",
      "   0.02192926 -0.15662915 -0.11419897  0.15373704]\n",
      " [-0.1228179  -0.01544334 -0.08976483  0.04559824  0.16144764  0.0439755\n",
      "  -0.13823831  0.02481699 -0.09871803  0.20160615]\n",
      " [-0.01877728 -0.08341429 -0.03007278 -0.06423059 -0.16959679  0.09403247\n",
      "   0.06103224  0.03517476  0.05143878 -0.12137255]\n",
      " [-0.07050116 -0.17488152  0.02460441 -0.21020259  0.11588597  0.22575808\n",
      "  -0.00957367 -0.16236429 -0.10285336  0.1133337 ]\n",
      " [-0.11654699 -0.10219903 -0.17406748  0.00219117  0.0770565  -0.03720939\n",
      "  -0.05681048  0.12561789  0.16509807 -0.01136024]\n",
      " [-0.0532953  -0.14150526  0.01163894  0.18658671  0.16596267  0.18209195\n",
      "  -0.01854064  0.2132721  -0.09471469  0.1392186 ]\n",
      " [-0.00911106  0.21941867 -0.03608671 -0.09403686  0.15580532 -0.20827319\n",
      "  -0.20832865 -0.17090666 -0.18082792  0.03892803]\n",
      " [-0.1993509  -0.00391309 -0.09636149 -0.16588828  0.06976911 -0.02266052\n",
      "  -0.08770029  0.01080877 -0.04373416 -0.00713906]\n",
      " [-0.1817161   0.04465544  0.14195728 -0.01653221 -0.09547375 -0.017487\n",
      "  -0.14882301 -0.23131737 -0.06451896  0.09178272]\n",
      " [ 0.15738899 -0.13476472 -0.02472195 -0.12868267 -0.07172985  0.12483847\n",
      "   0.1889205  -0.12237211  0.0283995   0.19685364]\n",
      " [ 0.21743816 -0.06114455 -0.1005265   0.10870722  0.19132519 -0.06896944\n",
      "  -0.06858301  0.04605335  0.22502017  0.00355405]]\n",
      "Shape of weights of layer 4:\n",
      " (100, 10)\n",
      "Biases of layer 4:\n",
      " [0. 0. 0. 0. 0. 0. 0. 0. 0. 0.]\n",
      "Shape of biases of layer 4:\n",
      " (10,)\n"
     ]
    }
   ],
   "source": [
    "\"\"\"\n",
    "For a Dense layer, we have access to  the connection weights and the bias terms:\n",
    "\"\"\"\n",
    "weights, biases = model.layers[3].get_weights()\n",
    "print(\"Weights of layer 4:\\n\", weights)\n",
    "print(\"Shape of weights of layer 4:\\n\",weights.shape)\n",
    "print(\"Biases of layer 4:\\n\",biases)\n",
    "print(\"Shape of biases of layer 4:\\n\",biases.shape)"
   ]
  },
  {
   "cell_type": "code",
   "execution_count": 7,
   "metadata": {},
   "outputs": [],
   "source": [
    "model = compile_model(model_we_have=model)"
   ]
  },
  {
   "cell_type": "code",
   "execution_count": 8,
   "metadata": {},
   "outputs": [
    {
     "name": "stdout",
     "output_type": "stream",
     "text": [
      "Epoch 1/50\n",
      "1719/1719 [==============================] - 5s 2ms/step - loss: 0.7064 - accuracy: 0.7686 - val_loss: 0.4950 - val_accuracy: 0.8356\n",
      "Epoch 2/50\n",
      "1719/1719 [==============================] - 3s 2ms/step - loss: 0.4831 - accuracy: 0.8330 - val_loss: 0.4349 - val_accuracy: 0.8524\n",
      "Epoch 3/50\n",
      "1719/1719 [==============================] - 3s 2ms/step - loss: 0.4391 - accuracy: 0.8455 - val_loss: 0.4157 - val_accuracy: 0.8562\n",
      "Epoch 4/50\n",
      "1719/1719 [==============================] - 3s 2ms/step - loss: 0.4143 - accuracy: 0.8550 - val_loss: 0.4011 - val_accuracy: 0.8628\n",
      "Epoch 5/50\n",
      "1719/1719 [==============================] - 3s 2ms/step - loss: 0.3933 - accuracy: 0.8608 - val_loss: 0.4017 - val_accuracy: 0.8554\n",
      "Epoch 6/50\n",
      "1719/1719 [==============================] - 3s 2ms/step - loss: 0.3777 - accuracy: 0.8669 - val_loss: 0.3680 - val_accuracy: 0.8732\n",
      "Epoch 7/50\n",
      "1719/1719 [==============================] - 4s 3ms/step - loss: 0.3641 - accuracy: 0.8714 - val_loss: 0.3556 - val_accuracy: 0.8772\n",
      "Epoch 8/50\n",
      "1719/1719 [==============================] - 4s 2ms/step - loss: 0.3523 - accuracy: 0.8755 - val_loss: 0.3468 - val_accuracy: 0.8778\n",
      "Epoch 9/50\n",
      "1719/1719 [==============================] - 4s 2ms/step - loss: 0.3418 - accuracy: 0.8791 - val_loss: 0.3560 - val_accuracy: 0.8748\n",
      "Epoch 10/50\n",
      "1719/1719 [==============================] - 3s 2ms/step - loss: 0.3329 - accuracy: 0.8819 - val_loss: 0.3552 - val_accuracy: 0.8776\n",
      "Epoch 11/50\n",
      "1719/1719 [==============================] - 3s 2ms/step - loss: 0.3243 - accuracy: 0.8849 - val_loss: 0.3607 - val_accuracy: 0.8708\n",
      "Epoch 12/50\n",
      "1719/1719 [==============================] - 3s 2ms/step - loss: 0.3176 - accuracy: 0.8873 - val_loss: 0.3270 - val_accuracy: 0.8850\n",
      "Epoch 13/50\n",
      "1719/1719 [==============================] - 3s 2ms/step - loss: 0.3094 - accuracy: 0.8894 - val_loss: 0.3206 - val_accuracy: 0.8866\n",
      "Epoch 14/50\n",
      "1719/1719 [==============================] - 3s 2ms/step - loss: 0.3036 - accuracy: 0.8916 - val_loss: 0.3336 - val_accuracy: 0.8802\n",
      "Epoch 15/50\n",
      "1719/1719 [==============================] - 3s 2ms/step - loss: 0.2967 - accuracy: 0.8935 - val_loss: 0.3301 - val_accuracy: 0.8794\n",
      "Epoch 16/50\n",
      "1719/1719 [==============================] - 3s 2ms/step - loss: 0.2906 - accuracy: 0.8956 - val_loss: 0.3100 - val_accuracy: 0.8906\n",
      "Epoch 17/50\n",
      "1719/1719 [==============================] - 3s 2ms/step - loss: 0.2846 - accuracy: 0.8969 - val_loss: 0.3331 - val_accuracy: 0.8800\n",
      "Epoch 18/50\n",
      "1719/1719 [==============================] - 3s 2ms/step - loss: 0.2796 - accuracy: 0.8980 - val_loss: 0.3177 - val_accuracy: 0.8878\n",
      "Epoch 19/50\n",
      "1719/1719 [==============================] - 3s 2ms/step - loss: 0.2750 - accuracy: 0.9007 - val_loss: 0.3042 - val_accuracy: 0.8928\n",
      "Epoch 20/50\n",
      "1719/1719 [==============================] - 3s 2ms/step - loss: 0.2686 - accuracy: 0.9035 - val_loss: 0.3140 - val_accuracy: 0.8870\n",
      "Epoch 21/50\n",
      "1719/1719 [==============================] - 3s 2ms/step - loss: 0.2647 - accuracy: 0.9053 - val_loss: 0.3133 - val_accuracy: 0.8874\n",
      "Epoch 22/50\n",
      "1719/1719 [==============================] - 3s 2ms/step - loss: 0.2604 - accuracy: 0.9059 - val_loss: 0.2987 - val_accuracy: 0.8930\n",
      "Epoch 23/50\n",
      "1719/1719 [==============================] - 3s 2ms/step - loss: 0.2554 - accuracy: 0.9081 - val_loss: 0.2989 - val_accuracy: 0.8946\n",
      "Epoch 24/50\n",
      "1719/1719 [==============================] - 3s 2ms/step - loss: 0.2502 - accuracy: 0.9099 - val_loss: 0.3194 - val_accuracy: 0.8836\n",
      "Epoch 25/50\n",
      "1719/1719 [==============================] - 3s 2ms/step - loss: 0.2473 - accuracy: 0.9113 - val_loss: 0.2991 - val_accuracy: 0.8948\n",
      "Epoch 26/50\n",
      "1719/1719 [==============================] - 3s 2ms/step - loss: 0.2433 - accuracy: 0.9127 - val_loss: 0.2921 - val_accuracy: 0.8936\n",
      "Epoch 27/50\n",
      "1719/1719 [==============================] - 3s 2ms/step - loss: 0.2391 - accuracy: 0.9139 - val_loss: 0.2916 - val_accuracy: 0.8990\n",
      "Epoch 28/50\n",
      "1719/1719 [==============================] - 4s 2ms/step - loss: 0.2354 - accuracy: 0.9151 - val_loss: 0.3282 - val_accuracy: 0.8800\n",
      "Epoch 29/50\n",
      "1719/1719 [==============================] - 3s 2ms/step - loss: 0.2310 - accuracy: 0.9179 - val_loss: 0.2901 - val_accuracy: 0.8954\n",
      "Epoch 30/50\n",
      "1719/1719 [==============================] - 3s 2ms/step - loss: 0.2280 - accuracy: 0.9176 - val_loss: 0.2939 - val_accuracy: 0.8934\n",
      "Epoch 31/50\n",
      "1719/1719 [==============================] - 3s 2ms/step - loss: 0.2240 - accuracy: 0.9191 - val_loss: 0.2830 - val_accuracy: 0.8962\n",
      "Epoch 32/50\n",
      "1719/1719 [==============================] - 3s 2ms/step - loss: 0.2193 - accuracy: 0.9217 - val_loss: 0.2878 - val_accuracy: 0.8926\n",
      "Epoch 33/50\n",
      "1719/1719 [==============================] - 3s 2ms/step - loss: 0.2174 - accuracy: 0.9219 - val_loss: 0.2894 - val_accuracy: 0.8952\n",
      "Epoch 34/50\n",
      "1719/1719 [==============================] - 3s 2ms/step - loss: 0.2128 - accuracy: 0.9249 - val_loss: 0.2984 - val_accuracy: 0.8934\n",
      "Epoch 35/50\n",
      "1719/1719 [==============================] - 3s 2ms/step - loss: 0.2093 - accuracy: 0.9249 - val_loss: 0.3113 - val_accuracy: 0.8860\n",
      "Epoch 36/50\n",
      "1719/1719 [==============================] - 3s 2ms/step - loss: 0.2069 - accuracy: 0.9255 - val_loss: 0.2871 - val_accuracy: 0.8978\n",
      "Epoch 37/50\n",
      "1719/1719 [==============================] - 3s 2ms/step - loss: 0.2029 - accuracy: 0.9276 - val_loss: 0.2834 - val_accuracy: 0.8972\n",
      "Epoch 38/50\n",
      "1719/1719 [==============================] - 3s 2ms/step - loss: 0.1999 - accuracy: 0.9290 - val_loss: 0.2847 - val_accuracy: 0.8956\n",
      "Epoch 39/50\n",
      "1719/1719 [==============================] - 3s 2ms/step - loss: 0.1968 - accuracy: 0.9303 - val_loss: 0.2839 - val_accuracy: 0.8952\n",
      "Epoch 40/50\n",
      "1719/1719 [==============================] - 3s 2ms/step - loss: 0.1932 - accuracy: 0.9302 - val_loss: 0.3057 - val_accuracy: 0.8904\n",
      "Epoch 41/50\n",
      "1719/1719 [==============================] - 3s 2ms/step - loss: 0.1913 - accuracy: 0.9324 - val_loss: 0.3008 - val_accuracy: 0.8892\n",
      "Epoch 42/50\n",
      "1719/1719 [==============================] - 3s 2ms/step - loss: 0.1874 - accuracy: 0.9335 - val_loss: 0.2865 - val_accuracy: 0.8972\n",
      "Epoch 43/50\n",
      "1719/1719 [==============================] - 3s 2ms/step - loss: 0.1845 - accuracy: 0.9339 - val_loss: 0.2871 - val_accuracy: 0.8994\n",
      "Epoch 44/50\n",
      "1719/1719 [==============================] - 3s 2ms/step - loss: 0.1824 - accuracy: 0.9352 - val_loss: 0.3004 - val_accuracy: 0.8946\n",
      "Epoch 45/50\n",
      "1719/1719 [==============================] - 3s 2ms/step - loss: 0.1792 - accuracy: 0.9361 - val_loss: 0.2944 - val_accuracy: 0.8918\n",
      "Epoch 46/50\n",
      "1719/1719 [==============================] - 3s 2ms/step - loss: 0.1765 - accuracy: 0.9366 - val_loss: 0.2885 - val_accuracy: 0.8972\n",
      "Epoch 47/50\n",
      "1719/1719 [==============================] - 3s 2ms/step - loss: 0.1738 - accuracy: 0.9374 - val_loss: 0.2888 - val_accuracy: 0.8956\n",
      "Epoch 48/50\n",
      "1719/1719 [==============================] - 3s 2ms/step - loss: 0.1710 - accuracy: 0.9391 - val_loss: 0.2846 - val_accuracy: 0.8992\n",
      "Epoch 49/50\n",
      "1719/1719 [==============================] - 3s 2ms/step - loss: 0.1682 - accuracy: 0.9394 - val_loss: 0.2809 - val_accuracy: 0.8998\n",
      "Epoch 50/50\n",
      "1719/1719 [==============================] - 3s 2ms/step - loss: 0.1656 - accuracy: 0.9415 - val_loss: 0.2813 - val_accuracy: 0.8988\n",
      "Model parameters -->\n",
      " {'verbose': 1, 'epochs': 50, 'steps': 1719}\n",
      "\n",
      "Model list of epochs it went through -->\n",
      " [0, 1, 2, 3, 4, 5, 6, 7, 8, 9, 10, 11, 12, 13, 14, 15, 16, 17, 18, 19, 20, 21, 22, 23, 24, 25, 26, 27, 28, 29, 30, 31, 32, 33, 34, 35, 36, 37, 38, 39, 40, 41, 42, 43, 44, 45, 46, 47, 48, 49]\n",
      "\n",
      "Models loss and extra metrics it measured at the end of each epoch -->\n",
      " {'loss': [0.7064480781555176, 0.48313868045806885, 0.4390876889228821, 0.41431641578674316, 0.3933461904525757, 0.3777196705341339, 0.36409857869148254, 0.35232850909233093, 0.3417894244194031, 0.3329014480113983, 0.3242880702018738, 0.3175763785839081, 0.30942854285240173, 0.303646057844162, 0.29673460125923157, 0.2905837595462799, 0.2845943868160248, 0.27959945797920227, 0.27499425411224365, 0.2685769200325012, 0.26471009850502014, 0.2603949010372162, 0.2553861737251282, 0.25022169947624207, 0.24729961156845093, 0.24326492846012115, 0.2390504777431488, 0.2353917509317398, 0.2310183048248291, 0.2279990166425705, 0.2240295559167862, 0.21925944089889526, 0.21735802292823792, 0.21281349658966064, 0.20926307141780853, 0.2069057673215866, 0.20291192829608917, 0.19988630712032318, 0.19681507349014282, 0.1931852102279663, 0.1913391798734665, 0.1873636543750763, 0.18454816937446594, 0.1823885142803192, 0.17916718125343323, 0.1765279471874237, 0.17376112937927246, 0.17104275524616241, 0.16817547380924225, 0.16562673449516296], 'accuracy': [0.7685636281967163, 0.8330000042915344, 0.8455272912979126, 0.8550181984901428, 0.8607636094093323, 0.8669090867042542, 0.8714181780815125, 0.8754545450210571, 0.8791272640228271, 0.8819272518157959, 0.8848909139633179, 0.887290894985199, 0.8894000053405762, 0.8916363716125488, 0.8935454487800598, 0.895618200302124, 0.8968726992607117, 0.8979636430740356, 0.9007090926170349, 0.9035272598266602, 0.9052545428276062, 0.9058545231819153, 0.908054530620575, 0.9098727107048035, 0.9112908840179443, 0.9126545190811157, 0.9138727188110352, 0.9150545597076416, 0.9178909063339233, 0.9175817966461182, 0.9191454648971558, 0.9217272996902466, 0.921890914440155, 0.9248727560043335, 0.9249454736709595, 0.9254727363586426, 0.9276182055473328, 0.9290181994438171, 0.9302726984024048, 0.9301636219024658, 0.932381808757782, 0.9334909319877625, 0.9338909387588501, 0.9351817965507507, 0.936090886592865, 0.9365817904472351, 0.9374181628227234, 0.9390727281570435, 0.9394363760948181, 0.9414727091789246], 'val_loss': [0.4950293004512787, 0.43489545583724976, 0.41570067405700684, 0.4011205732822418, 0.401746928691864, 0.36797815561294556, 0.35557088255882263, 0.34684300422668457, 0.3559977114200592, 0.35524529218673706, 0.36071598529815674, 0.32704663276672363, 0.32063058018684387, 0.3335917592048645, 0.3301023840904236, 0.3099609911441803, 0.33308473229408264, 0.3177109360694885, 0.30416321754455566, 0.3140232563018799, 0.31334877014160156, 0.2987203001976013, 0.2989264130592346, 0.3194117546081543, 0.2990543842315674, 0.29208096861839294, 0.29164090752601624, 0.32821038365364075, 0.2901317775249481, 0.2939281761646271, 0.28303298354148865, 0.2878035306930542, 0.28939300775527954, 0.2983786165714264, 0.31133946776390076, 0.28707364201545715, 0.28337839245796204, 0.2846519649028778, 0.2838640511035919, 0.3056807518005371, 0.3007914125919342, 0.2864515483379364, 0.2870883643627167, 0.3003591299057007, 0.29444193840026855, 0.28854241967201233, 0.28881967067718506, 0.2846071124076843, 0.2808922529220581, 0.28132909536361694], 'val_accuracy': [0.8356000185012817, 0.852400004863739, 0.8561999797821045, 0.8628000020980835, 0.855400025844574, 0.873199999332428, 0.8772000074386597, 0.8777999877929688, 0.8748000264167786, 0.8776000142097473, 0.8708000183105469, 0.8849999904632568, 0.8866000175476074, 0.8802000284194946, 0.8794000148773193, 0.8906000256538391, 0.8799999952316284, 0.8877999782562256, 0.892799973487854, 0.8870000243186951, 0.8873999714851379, 0.8930000066757202, 0.894599974155426, 0.8835999965667725, 0.8948000073432922, 0.8935999870300293, 0.8989999890327454, 0.8799999952316284, 0.8953999876976013, 0.8934000134468079, 0.8962000012397766, 0.8925999999046326, 0.8952000141143799, 0.8934000134468079, 0.8859999775886536, 0.8978000283241272, 0.8971999883651733, 0.8956000208854675, 0.8952000141143799, 0.8903999924659729, 0.88919997215271, 0.8971999883651733, 0.899399995803833, 0.894599974155426, 0.8917999863624573, 0.8971999883651733, 0.8956000208854675, 0.8992000222206116, 0.8998000025749207, 0.8988000154495239]}\n",
      "\n",
      "Visualization\n"
     ]
    },
    {
     "data": {
      "image/png": "[encoded data removed]",
      "text/plain": [
       "<Figure size 1440x1080 with 1 Axes>"
      ]
     },
     "metadata": {
      "needs_background": "light"
     },
     "output_type": "display_data"
    }
   ],
   "source": [
    "\n",
    "history = fit_model(\n",
    "    model_we_have=model,\n",
    "    x_train_df=X_train,  \n",
    "    y_train_df=y_train,\n",
    "    x_valid_df=X_valid,  \n",
    "    y_valid_df=y_valid,\n",
    ")"
   ]
  },
  {
   "cell_type": "code",
   "execution_count": null,
   "metadata": {},
   "outputs": [],
   "source": []
  },
  {
   "cell_type": "markdown",
   "metadata": {},
   "source": [
    "Train the model"
   ]
  },
  {
   "cell_type": "code",
   "execution_count": 9,
   "metadata": {},
   "outputs": [
    {
     "name": "stdout",
     "output_type": "stream",
     "text": [
      "313/313 [==============================] - 1s 1ms/step - loss: 66.0718 - accuracy: 0.8530\n"
     ]
    },
    {
     "data": {
      "text/plain": [
       "[66.0718002319336, 0.8529999852180481]"
      ]
     },
     "execution_count": 9,
     "metadata": {},
     "output_type": "execute_result"
    }
   ],
   "source": [
    "\"\"\"\n",
    "Evaluate the model on test sets\n",
    "\"\"\"\n",
    "\n",
    "model.evaluate(X_test, y_test)"
   ]
  },
  {
   "cell_type": "code",
   "execution_count": 10,
   "metadata": {},
   "outputs": [
    {
     "name": "stdout",
     "output_type": "stream",
     "text": [
      "1/1 [==============================] - 0s 84ms/step\n"
     ]
    },
    {
     "data": {
      "text/plain": [
       "array([[0., 0., 0., 0., 0., 0., 0., 0., 0., 1.],\n",
       "       [0., 0., 1., 0., 0., 0., 0., 0., 0., 0.],\n",
       "       [0., 1., 0., 0., 0., 0., 0., 0., 0., 0.]], dtype=float32)"
      ]
     },
     "execution_count": 10,
     "metadata": {},
     "output_type": "execute_result"
    }
   ],
   "source": [
    "\"\"\"\n",
    "Using the Model to Make Predictions\n",
    "\"\"\"\n",
    "\n",
    "X_new = X_test[:3]\n",
    "y_proba = model.predict(X_new)\n",
    "y_proba.round(2)"
   ]
  },
  {
   "cell_type": "code",
   "execution_count": 11,
   "metadata": {},
   "outputs": [
    {
     "data": {
      "text/plain": [
       "'\\nthe model estimates one probability per class, from class 0 to class 9. \\nFor example, for the first image it estimates that the probability of class 9 (ankle boot) is 100%, \\nfor the second image the probability of class 2 (sneaker) is 100%, \\nfor the third image the probability of class 1 (sandal) is 100%, and the other classes are negligible.\\n'"
      ]
     },
     "execution_count": 11,
     "metadata": {},
     "output_type": "execute_result"
    }
   ],
   "source": [
    "\"\"\"\n",
    "the model estimates one probability per class, from class 0 to class 9. \n",
    "For example, for the first image it estimates that the probability of class 9 (ankle boot) is 100%, \n",
    "for the second image the probability of class 2 (sneaker) is 100%, \n",
    "for the third image the probability of class 1 (sandal) is 100%, and the other classes are negligible.\n",
    "\"\"\""
   ]
  },
  {
   "cell_type": "code",
   "execution_count": 12,
   "metadata": {},
   "outputs": [
    {
     "name": "stdout",
     "output_type": "stream",
     "text": [
      "1/1 [==============================] - 0s 18ms/step\n"
     ]
    },
    {
     "data": {
      "text/plain": [
       "array([['T-shirt/top', 'T-shirt/top', 'T-shirt/top', 'T-shirt/top',\n",
       "        'T-shirt/top', 'T-shirt/top', 'T-shirt/top', 'T-shirt/top',\n",
       "        'T-shirt/top', 'Trouser'],\n",
       "       ['T-shirt/top', 'T-shirt/top', 'Trouser', 'T-shirt/top',\n",
       "        'T-shirt/top', 'T-shirt/top', 'T-shirt/top', 'T-shirt/top',\n",
       "        'T-shirt/top', 'T-shirt/top'],\n",
       "       ['T-shirt/top', 'Trouser', 'T-shirt/top', 'T-shirt/top',\n",
       "        'T-shirt/top', 'T-shirt/top', 'T-shirt/top', 'T-shirt/top',\n",
       "        'T-shirt/top', 'T-shirt/top']], dtype='<U11')"
      ]
     },
     "execution_count": 12,
     "metadata": {},
     "output_type": "execute_result"
    }
   ],
   "source": [
    "\"\"\"If you only care about the class with the highest estimated\n",
    "probability (even if that probability is quite low) then you can use the pre\n",
    "dict_classes() method instead:\"\"\"\n",
    "\n",
    "y_pred = (model.predict(X_new) > 0.5).astype(\"int32\")\n",
    "y_pred\n",
    "np.array(class_names)[y_pred]"
   ]
  },
  {
   "cell_type": "code",
   "execution_count": 13,
   "metadata": {},
   "outputs": [
    {
     "data": {
      "text/plain": [
       "array([9, 2, 1], dtype=uint8)"
      ]
     },
     "execution_count": 13,
     "metadata": {},
     "output_type": "execute_result"
    }
   ],
   "source": [
    "y_new = y_test[:3]\n",
    "y_new"
   ]
  },
  {
   "cell_type": "code",
   "execution_count": null,
   "metadata": {},
   "outputs": [],
   "source": []
  }
 ],
 "metadata": {
  "kernelspec": {
   "display_name": "Python 3.10.4 64-bit",
   "language": "python",
   "name": "python3"
  },
  "language_info": {
   "codemirror_mode": {
    "name": "ipython",
    "version": 3
   },
   "file_extension": ".py",
   "mimetype": "text/x-python",
   "name": "python",
   "nbconvert_exporter": "python",
   "pygments_lexer": "ipython3",
   "version": "3.10.4"
  },
  "orig_nbformat": 4,
  "vscode": {
   "interpreter": {
    "hash": "f65f015e90684393145548f440bd1f57356ff2bff1ebecc249e7acd74a09a39e"
   }
  }
 },
 "nbformat": 4,
 "nbformat_minor": 2
}
