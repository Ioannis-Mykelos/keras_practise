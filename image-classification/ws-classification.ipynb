{
 "cells": [
  {
   "cell_type": "markdown",
   "metadata": {},
   "source": [
    "Create an image classifier"
   ]
  },
  {
   "cell_type": "code",
   "execution_count": 1,
   "metadata": {},
   "outputs": [],
   "source": [
    "#%pip install tensorflow\n",
    "#%pip install pandas"
   ]
  },
  {
   "cell_type": "code",
   "execution_count": 2,
   "metadata": {},
   "outputs": [
    {
     "name": "stdout",
     "output_type": "stream",
     "text": [
      "Tensorflow version 2.9.1\n",
      "Keras version 2.9.0\n"
     ]
    }
   ],
   "source": [
    "import numpy as np\n",
    "import pandas as pd\n",
    "import matplotlib.pyplot as plt\n",
    "from matplotlib.pyplot import figure\n",
    "import tensorflow as tf\n",
    "from tensorflow import keras\n",
    "\n",
    "from src.functions import load_fashion_mnist_data\n",
    "from src.lists import class_names\n",
    "from src.models import (\n",
    "    create_sequential_model,\n",
    "    compile_model,\n",
    "    fit_model,\n",
    ")\n",
    "\n",
    "\n",
    "print('Tensorflow version', tf.__version__)\n",
    "print('Keras version', keras.__version__)"
   ]
  },
  {
   "cell_type": "markdown",
   "metadata": {},
   "source": [
    "## Using Keras to Load the Dataset"
   ]
  },
  {
   "cell_type": "code",
   "execution_count": 3,
   "metadata": {},
   "outputs": [
    {
     "name": "stdout",
     "output_type": "stream",
     "text": [
      "Loading data ... \n",
      "X_train shape (55000, 28, 28)\n",
      "X_train dtype float64\n",
      "X_test shape (10000, 28, 28)\n",
      "X_test dtype uint8\n",
      "X_valid shape (5000, 28, 28)\n",
      "X_valid dtype float64\n",
      "y_train shape (55000,)\n",
      "y_train dtype uint8\n",
      "y_test shape (10000,)\n",
      "y_test dtype uint8\n",
      "y_valid shape (5000,)\n",
      "y_valid dtype uint8\n",
      "\n",
      "The class names are the following:\n",
      " ['T-shirt/top', 'Trouser', 'Pullover', 'Dress', 'Coat', 'Sandal', 'Shirt', 'Sneaker', 'Bag', 'Ankle boot']\n"
     ]
    }
   ],
   "source": [
    "X_train, X_test, X_valid, y_train, y_test, y_valid = load_fashion_mnist_data()\n",
    "print(\"\")\n",
    "print(\"The class names are the following:\\n\", class_names)"
   ]
  },
  {
   "cell_type": "markdown",
   "metadata": {},
   "source": [
    "Creating the Model Using the Sequential API"
   ]
  },
  {
   "cell_type": "code",
   "execution_count": 4,
   "metadata": {},
   "outputs": [
    {
     "name": "stdout",
     "output_type": "stream",
     "text": [
      "Model: \"sequential\"\n",
      "_________________________________________________________________\n",
      " Layer (type)                Output Shape              Param #   \n",
      "=================================================================\n",
      " flatten (Flatten)           (None, 784)               0         \n",
      "                                                                 \n",
      " dense (Dense)               (None, 300)               235500    \n",
      "                                                                 \n",
      " dense_1 (Dense)             (None, 100)               30100     \n",
      "                                                                 \n",
      " dense_2 (Dense)             (None, 10)                1010      \n",
      "                                                                 \n",
      "=================================================================\n",
      "Total params: 266,610\n",
      "Trainable params: 266,610\n",
      "Non-trainable params: 0\n",
      "_________________________________________________________________\n",
      "None\n",
      "\n",
      "Layers:\n",
      "<keras.layers.reshaping.flatten.Flatten object at 0x00000219E8D3A440>\n",
      "<keras.layers.core.dense.Dense object at 0x00000219E8D3B7C0>\n",
      "<keras.layers.core.dense.Dense object at 0x00000219E8D3A5F0>\n",
      "<keras.layers.core.dense.Dense object at 0x00000219E8D39BA0>\n"
     ]
    }
   ],
   "source": [
    "model = create_sequential_model(input_shape_dim=28)"
   ]
  },
  {
   "cell_type": "code",
   "execution_count": 5,
   "metadata": {},
   "outputs": [
    {
     "name": "stdout",
     "output_type": "stream",
     "text": [
      "Weights of layer 4:\n",
      " [[-1.49760425e-01 -1.51421726e-01 -7.83219486e-02  1.47717595e-01\n",
      "  -1.99836671e-01 -1.03376552e-01 -1.12721704e-01  1.34516656e-01\n",
      "  -1.26175731e-01 -6.01480454e-02]\n",
      " [ 1.55778110e-01  2.24623978e-02 -1.95719391e-01 -4.02305573e-02\n",
      "   2.14899093e-01 -1.81776911e-01 -5.05858958e-02 -1.38615072e-02\n",
      "   6.14345074e-04 -2.83226073e-02]\n",
      " [-5.33679128e-02 -3.82735878e-02  1.78700507e-01 -1.81647450e-01\n",
      "   8.34839642e-02 -1.82183772e-01  3.46474349e-02  4.98587489e-02\n",
      "  -2.04360589e-01  1.41282350e-01]\n",
      " [ 1.73235834e-02  1.05367362e-01 -1.75732404e-01  1.17710710e-01\n",
      "  -2.07308382e-01  2.10682839e-01  1.10899061e-02  1.97631627e-01\n",
      "  -5.16218692e-02 -1.60088599e-01]\n",
      " [-1.74127787e-01  5.32238781e-02 -2.09071621e-01 -2.29098856e-01\n",
      "   5.69108427e-02 -2.09884644e-01 -1.89294174e-01  8.19803774e-03\n",
      "  -1.36338800e-01  5.63191473e-02]\n",
      " [-1.03132948e-01  1.31171525e-01 -2.00833768e-01 -5.62911928e-02\n",
      "   1.57386273e-01  2.79444754e-02  2.04399347e-01  1.02253318e-01\n",
      "  -5.84393740e-03 -1.47516757e-01]\n",
      " [-2.05390051e-01  4.26258445e-02 -8.76982808e-02 -4.75722998e-02\n",
      "  -3.93394083e-02 -1.20125651e-01  3.86298001e-02 -3.07068229e-02\n",
      "   5.26752174e-02  3.19738984e-02]\n",
      " [ 5.89743257e-02  1.92582160e-01  7.43558407e-02  2.23732859e-01\n",
      "  -1.28963709e-01  2.12855875e-01 -5.41649610e-02 -4.26860452e-02\n",
      "  -1.28292054e-01 -1.08410716e-02]\n",
      " [-1.67326942e-01  1.28843874e-01  2.17149556e-01  1.83480740e-01\n",
      "  -2.31926888e-02 -2.00569719e-01 -3.45125794e-03 -1.77395016e-01\n",
      "  -2.64184922e-02 -4.34045494e-03]\n",
      " [ 2.11038888e-01  3.00109386e-05  4.00778651e-02 -8.08290541e-02\n",
      "   1.22328073e-01  1.45759463e-01 -5.63665330e-02 -3.16146165e-02\n",
      "  -2.32592002e-01 -1.09794304e-01]\n",
      " [ 1.64696455e-01 -2.20517009e-01  1.49938732e-01  1.66298330e-01\n",
      "  -1.40935004e-01 -1.09559268e-01 -1.46241277e-01 -2.72402614e-02\n",
      "   7.87602961e-02  1.81427598e-01]\n",
      " [ 1.44802898e-01 -6.82571530e-02  4.48373854e-02  2.04604208e-01\n",
      "   2.31008708e-01  1.88240379e-01  1.50900245e-01 -1.34284064e-01\n",
      "   3.49178910e-02  2.45723426e-02]\n",
      " [ 1.02817833e-01 -1.74169555e-01 -1.04984492e-02 -9.61270779e-02\n",
      "  -1.10304579e-01  1.22651458e-03 -3.93815339e-03 -1.04533523e-01\n",
      "   1.11592859e-02  1.15934968e-01]\n",
      " [-1.25538170e-01  1.02553725e-01  2.17387885e-01 -1.98400334e-01\n",
      "   1.12285554e-01 -2.07664683e-01 -1.33090168e-01 -1.09348066e-01\n",
      "  -4.94628996e-02  1.78874075e-01]\n",
      " [-2.72771716e-03 -1.68526232e-01 -1.18369147e-01 -3.19518149e-03\n",
      "  -2.75160521e-02  1.00124180e-01  9.58331227e-02  6.61912262e-02\n",
      "  -6.31364286e-02 -1.62375420e-01]\n",
      " [-9.50729996e-02 -1.34260803e-02  9.03899372e-02 -1.59955174e-01\n",
      "   4.40694392e-03 -2.13456064e-01 -7.74551928e-02 -4.99641448e-02\n",
      "  -3.59223336e-02  7.52611458e-02]\n",
      " [-2.03289881e-01 -1.84984118e-01 -5.44699281e-02 -1.40327409e-01\n",
      "   9.91029739e-02  1.03403449e-01 -9.47416872e-02  1.88821912e-01\n",
      "   2.03919798e-01  1.56233013e-02]\n",
      " [-4.19820994e-02 -1.36964172e-01  4.52281237e-02 -1.46095783e-01\n",
      "  -1.36500388e-01  2.32192487e-01  1.84671909e-01 -1.45322189e-01\n",
      "  -2.17976719e-01  2.63621509e-02]\n",
      " [ 1.90225065e-01  2.26098508e-01  9.31712091e-02  2.45857537e-02\n",
      "   1.47590071e-01  1.29474372e-01 -1.99809611e-01  1.42160267e-01\n",
      "  -1.26104355e-02  1.23284698e-01]\n",
      " [ 3.51912379e-02 -2.13808596e-01 -1.16081260e-01 -1.92046613e-01\n",
      "  -2.30384022e-01  1.47866875e-01  2.16555685e-01 -4.30479646e-04\n",
      "   6.70245588e-02  1.78460777e-01]\n",
      " [-1.90709531e-02  7.71335065e-02  1.06831998e-01  9.09965336e-02\n",
      "   8.07681382e-02 -1.45425811e-01 -1.67838007e-01  7.15555251e-02\n",
      "   6.49890304e-02  8.35199654e-03]\n",
      " [ 2.62348354e-02  1.40213966e-01 -3.11946571e-02  1.50868565e-01\n",
      "   1.24150068e-01  2.28580832e-02 -2.19179854e-01 -2.59860009e-02\n",
      "   1.29693866e-01  1.72903121e-01]\n",
      " [ 2.23738313e-01  6.66837990e-02  8.45846832e-02  3.18366885e-02\n",
      "   1.09070987e-02 -6.94086701e-02  1.77567184e-01 -1.90397203e-02\n",
      "   1.44198954e-01  8.70759189e-02]\n",
      " [ 9.81374383e-02  4.43918705e-02  7.47256875e-02 -1.94214895e-01\n",
      "  -2.20877558e-01 -1.97162509e-01 -1.48215175e-01  2.85473466e-03\n",
      "   2.33021259e-01  1.59737289e-01]\n",
      " [ 9.30897593e-02  4.93407249e-04  1.09823942e-02  1.58379972e-01\n",
      "   1.45077229e-01  7.25148618e-03 -2.17190638e-01  1.73499763e-01\n",
      "   1.51169598e-01  1.36840940e-01]\n",
      " [ 1.34286791e-01  1.05276436e-01 -2.08949402e-01 -1.63041770e-01\n",
      "   1.27425015e-01 -1.09298341e-01  2.09469467e-01  2.20544249e-01\n",
      "   2.16297150e-01  1.87035352e-01]\n",
      " [-1.61136374e-01 -1.87792465e-01  9.79260206e-02 -2.01841906e-01\n",
      "   9.71691012e-02 -1.96567208e-01 -1.53480530e-01 -1.66480735e-01\n",
      "   9.09729302e-02  1.23897195e-01]\n",
      " [ 1.55446738e-01 -2.95378268e-02  1.14568204e-01 -1.26986980e-01\n",
      "  -2.02549011e-01 -1.77514240e-01 -1.29483446e-01  1.94861412e-01\n",
      "   1.14747494e-01 -1.10517904e-01]\n",
      " [ 1.30510300e-01 -1.73493013e-01 -2.06519514e-02  8.04539919e-02\n",
      "  -1.16145298e-01  2.73758173e-03 -7.73249567e-02  1.37062967e-01\n",
      "  -7.89612532e-05  1.95350438e-01]\n",
      " [-2.07193837e-01  9.46090519e-02  1.17289126e-01 -1.77028969e-01\n",
      "   4.80765700e-02 -2.47556418e-02  1.48976296e-01 -1.72050998e-01\n",
      "  -1.37847468e-01 -3.48775685e-02]\n",
      " [-1.91453755e-01  1.44536555e-01 -2.01909229e-01 -1.55981228e-01\n",
      "   1.01755917e-01  1.47330612e-02  1.33540928e-01  1.15897954e-01\n",
      "   1.82289898e-01 -9.68233198e-02]\n",
      " [-2.24310279e-01  1.83530688e-01  2.11993724e-01 -7.87490457e-02\n",
      "  -1.10698372e-01  5.10346889e-02  1.32478505e-01  1.59658283e-01\n",
      "  -1.80804908e-01  9.21904743e-02]\n",
      " [ 1.20880216e-01 -1.59116149e-01 -1.90421626e-01 -2.17647627e-01\n",
      "  -1.02009654e-01 -1.39462486e-01  1.39493793e-02  1.18222266e-01\n",
      "   9.30273831e-02 -2.59073824e-02]\n",
      " [-2.12485582e-01  1.95181280e-01  6.70103729e-02  1.52442217e-01\n",
      "   1.47947192e-01  1.27964467e-01 -1.23597965e-01 -2.17238694e-01\n",
      "  -1.13639526e-01 -2.83775181e-02]\n",
      " [-2.09915385e-01  1.68281287e-01 -2.09651560e-01  9.97711718e-02\n",
      "   1.55676633e-01 -1.72259808e-01  6.99907541e-05  3.76708806e-02\n",
      "  -2.06513897e-01 -1.36573166e-02]\n",
      " [ 2.04578042e-03 -7.06002265e-02  1.81240231e-01  1.47605062e-01\n",
      "  -2.19131678e-01  1.53953165e-01 -7.54373223e-02  3.88745666e-02\n",
      "   1.54700190e-01  1.38014555e-03]\n",
      " [ 1.83025151e-01  9.80792344e-02  2.11042017e-01  1.11680120e-01\n",
      "  -2.33505577e-01 -6.22319728e-02  2.31033653e-01 -5.60163409e-02\n",
      "  -1.75781906e-01  2.21539676e-01]\n",
      " [ 7.70153105e-02  1.17762417e-01 -1.77021950e-01  1.28739804e-01\n",
      "   5.92056215e-02  1.64041519e-01 -1.60861462e-01  5.77973425e-02\n",
      "  -1.02145225e-02  1.66238904e-01]\n",
      " [ 1.60128415e-01 -3.97325307e-02  2.18753159e-01 -1.03474438e-01\n",
      "  -1.53150603e-01  8.96477997e-02  1.08247340e-01 -1.64386794e-01\n",
      "   7.37903416e-02  1.20634258e-01]\n",
      " [ 2.11916447e-01  4.61748838e-02 -1.11240380e-01  7.32606947e-02\n",
      "  -9.76304412e-02  7.36575425e-02 -6.28328323e-03 -1.40564114e-01\n",
      "  -1.19505070e-01  1.68785661e-01]\n",
      " [-1.95528001e-01 -6.14735484e-03  1.14944041e-01 -1.33819103e-01\n",
      "   2.04643786e-01  1.81013733e-01  5.86953461e-02 -9.05196071e-02\n",
      "   1.05609715e-01  1.34672791e-01]\n",
      " [ 1.46640301e-01 -5.27120829e-02  1.46342248e-01 -6.04204535e-02\n",
      "   1.33452117e-01  4.61306274e-02 -9.48381275e-02 -9.21252221e-02\n",
      "  -1.08076617e-01 -8.56876522e-02]\n",
      " [ 5.46771288e-02  2.13873118e-01 -5.30371070e-02  1.28874570e-01\n",
      "   6.07026517e-02  1.09563112e-01 -1.11631721e-01  1.72841460e-01\n",
      "   8.16802382e-02  3.64696980e-02]\n",
      " [ 1.32100135e-01 -1.68072030e-01 -1.57340497e-01  7.91990757e-03\n",
      "  -5.23329973e-02 -2.50846148e-04  3.96288633e-02  2.14949816e-01\n",
      "   1.20167077e-01 -2.30795786e-01]\n",
      " [-2.18841463e-01 -1.44888699e-01 -1.36111110e-01 -5.16781658e-02\n",
      "  -1.00750327e-02 -1.87372416e-02  4.52737212e-02 -5.12833744e-02\n",
      "   1.56107247e-01  1.23963475e-01]\n",
      " [ 4.41361964e-03 -1.04613870e-01 -3.53765935e-02  1.16179198e-01\n",
      "  -7.62159228e-02  3.61661315e-02  2.23087162e-01  4.58752513e-02\n",
      "  -2.02271387e-01  1.34384334e-01]\n",
      " [-1.62900895e-01  2.73789465e-02  4.47147191e-02 -1.31254986e-01\n",
      "   7.02208579e-02 -2.72735953e-04 -8.99314433e-02  1.71572059e-01\n",
      "   1.26254648e-01  1.61971509e-01]\n",
      " [ 6.13693893e-02  1.93704456e-01 -5.63076138e-02 -1.86893582e-01\n",
      "   1.85243815e-01  2.10350096e-01  2.15243310e-01  3.22677791e-02\n",
      "   1.69959724e-01 -1.62399203e-01]\n",
      " [-3.44499797e-02 -1.76276565e-02 -5.39999157e-02  6.11815155e-02\n",
      "   1.04818285e-01  9.96417105e-02  1.86030447e-01 -1.58733726e-01\n",
      "  -6.21064007e-02 -1.55683875e-01]\n",
      " [ 4.84184623e-02 -1.74814314e-02  8.82473588e-03 -1.81211114e-01\n",
      "   3.40110362e-02 -4.72168773e-02  4.42837477e-02 -1.75835520e-01\n",
      "  -6.41023517e-02  1.29342854e-01]\n",
      " [ 1.86820745e-01  2.20192432e-01 -9.10723805e-02  1.89712286e-01\n",
      "  -5.92232198e-02 -1.13232486e-01 -1.62037045e-01 -1.50916010e-01\n",
      "   5.27935624e-02  1.59211814e-01]\n",
      " [-8.18525106e-02 -7.91090280e-02  1.03828579e-01 -1.74263939e-01\n",
      "   2.42133439e-02 -1.40701085e-01 -1.44765079e-01  9.41768885e-02\n",
      "   2.29671568e-01  2.15037793e-01]\n",
      " [ 2.27246374e-01  1.47525817e-01  1.10596418e-03  5.05779982e-02\n",
      "   9.15363133e-02  1.44584626e-01  1.71866745e-01  1.23793185e-01\n",
      "  -1.63307443e-01  9.29253101e-02]\n",
      " [ 1.97787941e-01  7.21382797e-02 -1.81751192e-01  9.70672071e-02\n",
      "  -2.21045330e-01 -1.60904124e-01  1.28997117e-01 -1.25607997e-01\n",
      "  -2.07473144e-01  1.93900615e-01]\n",
      " [-2.16613218e-01  1.74352139e-01  1.41668856e-01  1.34867668e-01\n",
      "  -1.74610287e-01  1.81686103e-01 -1.52603179e-01  1.51893914e-01\n",
      "   2.26558745e-01 -3.07917595e-04]\n",
      " [-9.01049972e-02  2.20679641e-02 -1.46363944e-01 -1.00327149e-01\n",
      "  -1.05614945e-01 -1.89607382e-01  1.04839951e-01 -6.51894361e-02\n",
      "   3.02861929e-02  2.28260338e-01]\n",
      " [ 1.29335612e-01  1.14838153e-01 -4.56377864e-04 -6.96562380e-02\n",
      "   1.96168631e-01  1.67254567e-01 -2.21495464e-01  1.10569030e-01\n",
      "   9.07769203e-02  2.05628991e-01]\n",
      " [-1.59775496e-01  1.25683546e-01 -2.22070515e-02  1.56236857e-01\n",
      "   1.34756029e-01 -1.12701051e-01 -1.67030543e-01 -5.45444936e-02\n",
      "  -2.22117439e-01  9.94172990e-02]\n",
      " [-8.13143849e-02 -1.45947069e-01  1.60120845e-01  2.12737918e-01\n",
      "  -3.83229256e-02 -1.54178441e-02  1.49860322e-01 -6.42254651e-02\n",
      "   1.16219193e-01  2.10563064e-01]\n",
      " [ 1.76967055e-01  1.87402636e-01  4.54014540e-02  2.15455562e-01\n",
      "  -1.25661001e-01  1.89208925e-01 -1.95188999e-01  2.19216496e-01\n",
      "  -1.93972737e-01 -2.41149068e-02]\n",
      " [-1.25074998e-01  3.57438624e-02 -1.66415691e-01 -3.13269049e-02\n",
      "   6.87506795e-03  2.08283365e-01  1.37303561e-01 -2.30330840e-01\n",
      "  -6.64570481e-02 -6.38924837e-02]\n",
      " [-6.87495023e-02  2.00816184e-01  1.07338548e-01 -1.25327557e-02\n",
      "   2.05335826e-01  2.23480880e-01 -3.56566757e-02 -7.79736638e-02\n",
      "  -8.31193924e-02 -6.41055256e-02]\n",
      " [-1.23157233e-01 -6.45580590e-02  3.38627994e-02  4.55528200e-02\n",
      "   6.57443702e-02  6.00535572e-02 -2.60768235e-02  1.10597074e-01\n",
      "  -1.16483957e-01  2.09614635e-01]\n",
      " [ 1.29976958e-01  9.31288004e-02  4.40778732e-02 -9.20453221e-02\n",
      "  -8.53180736e-02 -2.01534763e-01 -1.95892334e-01 -4.28724140e-02\n",
      "  -1.29255593e-01  1.73439056e-01]\n",
      " [ 3.09070647e-02  1.17235601e-01  1.70253396e-01  6.48827255e-02\n",
      "   4.22600210e-02 -8.61127824e-02  1.40281975e-01  1.87267989e-01\n",
      "   1.00616753e-01  8.04692507e-02]\n",
      " [-5.05164713e-02  1.41709566e-01 -3.76795679e-02 -1.81262240e-01\n",
      "  -1.76487565e-01  1.77832842e-02 -1.48939326e-01 -1.85813665e-01\n",
      "   2.27314353e-01  1.37784660e-01]\n",
      " [ 1.14984691e-01 -8.06336701e-02  4.72555757e-02 -1.71838120e-01\n",
      "   9.51931775e-02  1.77348405e-01 -2.25410894e-01 -2.32136458e-01\n",
      "  -1.78143680e-02  5.17569482e-03]\n",
      " [-8.02266300e-02  1.28751546e-01  1.00727618e-01  1.94318622e-01\n",
      "   9.36584473e-02  3.03530693e-02  1.57479972e-01 -2.86197364e-02\n",
      "   1.90588117e-01 -6.98638260e-02]\n",
      " [ 2.22210258e-01  1.61032856e-01  1.66355014e-01 -9.53147709e-02\n",
      "   1.17637366e-01  4.81531322e-02  1.09653085e-01 -1.69153169e-01\n",
      "  -4.53951955e-03 -2.32064858e-01]\n",
      " [ 4.33093607e-02  7.00860023e-02 -5.96423447e-02 -1.26099885e-01\n",
      "  -1.04841173e-01 -2.22223684e-01 -1.38777643e-01  1.96352780e-01\n",
      "   1.17673904e-01 -2.01424792e-01]\n",
      " [ 4.30006087e-02 -1.00305885e-01 -6.93751574e-02  2.13285893e-01\n",
      "   2.14014053e-01 -5.30892164e-02 -9.71405506e-02  1.62254810e-01\n",
      "  -2.31351614e-01  1.10520065e-01]\n",
      " [-2.26803854e-01  1.65745497e-01 -1.72719136e-01  5.54192662e-02\n",
      "   3.88850868e-02  9.68586206e-02  2.74016261e-02 -1.21570669e-01\n",
      "  -1.59731388e-01 -1.60056636e-01]\n",
      " [ 1.34471714e-01 -7.95453787e-03 -4.91128713e-02  6.90948367e-02\n",
      "  -1.06382802e-01 -1.00202590e-01 -1.39992028e-01 -1.15064107e-01\n",
      "  -1.67326272e-01  9.02216136e-02]\n",
      " [-1.78861260e-01 -1.87455639e-01  1.64311528e-02 -2.30653137e-01\n",
      "  -3.80861014e-02 -6.02203310e-02  1.30197972e-01 -2.09819332e-01\n",
      "  -9.05950367e-03 -1.94974408e-01]\n",
      " [-7.73560852e-02 -1.32769495e-02 -2.98664123e-02 -1.40538365e-02\n",
      "   5.80869615e-03  7.13700950e-02 -1.72979057e-01 -1.24713510e-01\n",
      "  -4.67609465e-02  7.11199641e-02]\n",
      " [ 8.50171745e-02 -6.59298450e-02 -7.31694698e-02 -1.11269228e-01\n",
      "   2.26086050e-01  1.07082725e-01  7.54834116e-02 -1.45392910e-01\n",
      "   1.49617493e-02  1.78771049e-01]\n",
      " [-1.55497491e-02 -8.50982964e-02 -1.66771352e-01 -1.73771203e-01\n",
      "  -7.07350373e-02  1.85637772e-01  2.23333031e-01 -5.91526926e-03\n",
      "  -3.95132005e-02 -1.52404338e-01]\n",
      " [ 1.05706424e-01  2.13350147e-01  1.27519518e-01 -1.42190933e-01\n",
      "   1.95699394e-01  5.52766025e-03 -1.32976979e-01 -3.06749344e-03\n",
      "   1.18370652e-02  1.75538898e-01]\n",
      " [-1.81027755e-01 -1.85411036e-01  2.33709812e-02 -1.16347142e-01\n",
      "   2.16607094e-01 -5.43219745e-02  3.52788270e-02 -1.82519376e-01\n",
      "   1.60785973e-01 -8.10849220e-02]\n",
      " [-4.01584953e-02  6.61891699e-02  1.86718583e-01 -4.50499356e-03\n",
      "   8.01718831e-02 -1.11369342e-01  5.73240519e-02  1.24225676e-01\n",
      "   5.98074496e-02 -6.80830330e-02]\n",
      " [ 2.01461375e-01  4.96644080e-02  1.06468260e-01 -1.85368881e-01\n",
      "   2.31528878e-02 -1.58716142e-01  1.81105822e-01 -3.01702768e-02\n",
      "  -1.20864898e-01 -2.32111797e-01]\n",
      " [ 2.35294700e-02  1.51586801e-01  2.20027715e-01 -9.78379697e-02\n",
      "   1.67050958e-02 -4.17696238e-02 -8.51470232e-03  1.02454871e-02\n",
      "   2.12343752e-01  2.24244446e-01]\n",
      " [-2.02577636e-01  1.59215927e-01 -1.01867616e-01 -6.95471615e-02\n",
      "   1.43206745e-01  1.75431937e-01 -9.21384096e-02  1.92039669e-01\n",
      "   1.79783016e-01  6.09277189e-02]\n",
      " [ 1.74734950e-01  1.51722014e-01  7.05965459e-02 -1.91977397e-01\n",
      "   2.33241647e-01 -1.68053925e-01  1.28892869e-01  2.04419911e-01\n",
      "  -4.17912900e-02  1.08089626e-01]\n",
      " [ 2.03439265e-01  1.38148725e-01  4.62487936e-02 -1.99572280e-01\n",
      "  -1.49687424e-01  1.88159347e-01 -3.47747803e-02  4.78304029e-02\n",
      "  -1.70280635e-02  1.78338021e-01]\n",
      " [ 2.31279910e-01 -6.29335642e-02  6.26646876e-02 -8.83317292e-02\n",
      "   1.13250732e-01 -8.13913941e-02  1.26802772e-01 -2.85334289e-02\n",
      "   2.01187521e-01 -1.70535088e-01]\n",
      " [ 9.15832520e-02  2.21806049e-01  8.09702873e-02 -9.64931846e-02\n",
      "  -2.24304810e-01 -7.97543377e-02  1.10058963e-01 -1.22837394e-01\n",
      "   3.76893580e-02  1.88211709e-01]\n",
      " [-6.08111769e-02 -1.30768865e-02 -5.97679615e-03 -8.17356855e-02\n",
      "   1.03283554e-01 -8.95103067e-02 -4.54102606e-02  1.08785957e-01\n",
      "  -1.43076345e-01 -1.46138996e-01]\n",
      " [-2.26344079e-01 -2.18013629e-01 -2.10240573e-01 -1.57068148e-01\n",
      "  -7.54806399e-02  9.33881104e-03 -1.94936708e-01  8.77658725e-02\n",
      "   9.41371918e-02  6.97073340e-03]\n",
      " [-1.73077613e-01  6.79058135e-02  1.85258687e-02 -6.09132349e-02\n",
      "   3.14846635e-02  1.30390406e-01 -4.39196378e-02 -3.71901691e-02\n",
      "   2.26112425e-01 -1.65760368e-01]\n",
      " [ 1.92225248e-01 -1.50909379e-01  9.76751149e-02 -8.10182691e-02\n",
      "  -1.92074627e-01 -4.71999049e-02  1.45491302e-01  1.91327751e-01\n",
      "  -2.20533043e-01  2.97292173e-02]\n",
      " [-1.54872254e-01  1.68586761e-01 -2.21397743e-01  2.22080797e-01\n",
      "  -1.16421133e-02 -6.36671931e-02  1.98019862e-01  1.38167322e-01\n",
      "  -5.46055734e-02  5.50234616e-02]\n",
      " [-1.46545976e-01 -1.91268340e-01 -1.77327543e-01 -1.78697169e-01\n",
      "  -1.74765527e-01 -5.02926707e-02  1.64000362e-01 -2.16619670e-02\n",
      "  -1.88977271e-01  1.33137047e-01]\n",
      " [ 1.68970764e-01  6.15475178e-02 -1.04158223e-01 -2.05787688e-01\n",
      "   1.01897061e-01 -2.55603045e-02  1.41172737e-01  1.62414223e-01\n",
      "   7.45858252e-02  1.94157809e-01]\n",
      " [ 4.48746383e-02  9.04232860e-02  1.04039282e-01  1.08150989e-01\n",
      "   3.33991945e-02  1.69731975e-01 -2.21070156e-01 -1.95124596e-02\n",
      "   4.73545790e-02 -3.46733779e-02]\n",
      " [ 1.87329978e-01  4.37421203e-02  2.37084627e-02  1.82559639e-01\n",
      "   2.02727377e-01  7.15606511e-02  8.20623338e-02 -2.14514926e-01\n",
      "   8.67732465e-02  9.81328785e-02]\n",
      " [ 5.41100502e-02  1.65116280e-01  1.74278408e-01 -1.26095325e-01\n",
      "   6.18495941e-02  4.86886799e-02 -1.42646194e-01  1.31690323e-01\n",
      "  -2.75591463e-02  1.13737404e-01]\n",
      " [-9.74146724e-02  3.14266980e-02 -1.62423640e-01  2.25328982e-01\n",
      "   2.19855934e-01  5.16597927e-02  1.06454909e-01 -4.17433381e-02\n",
      "   1.35938972e-02 -8.62968117e-02]\n",
      " [-1.20450951e-01  5.43094575e-02 -5.15876263e-02  1.54992521e-01\n",
      "   8.39328170e-02  2.02383995e-02 -2.04794407e-02 -1.59561172e-01\n",
      "   5.20303845e-04 -4.23888862e-03]\n",
      " [-1.60058305e-01 -1.47998348e-01 -1.54643357e-02  1.80838168e-01\n",
      "   1.04982436e-01 -1.60215378e-01  1.44206375e-01 -1.68589056e-01\n",
      "  -7.88522214e-02 -6.67120814e-02]]\n",
      "Shape of weights of layer 4:\n",
      " (100, 10)\n",
      "Biases of layer 4:\n",
      " [0. 0. 0. 0. 0. 0. 0. 0. 0. 0.]\n",
      "Shape of biases of layer 4:\n",
      " (10,)\n"
     ]
    }
   ],
   "source": [
    "\"\"\"\n",
    "For a Dense layer, we have access to  the connection weights and the bias terms:\n",
    "\"\"\"\n",
    "weights, biases = model.layers[3].get_weights()\n",
    "print(\"Weights of layer 4:\\n\", weights)\n",
    "print(\"Shape of weights of layer 4:\\n\",weights.shape)\n",
    "print(\"Biases of layer 4:\\n\",biases)\n",
    "print(\"Shape of biases of layer 4:\\n\",biases.shape)"
   ]
  },
  {
   "cell_type": "markdown",
   "metadata": {},
   "source": [
    "## Complile and train out model."
   ]
  },
  {
   "cell_type": "code",
   "execution_count": 6,
   "metadata": {},
   "outputs": [],
   "source": [
    "model = compile_model(model_we_have=model)"
   ]
  },
  {
   "cell_type": "code",
   "execution_count": 7,
   "metadata": {},
   "outputs": [
    {
     "name": "stdout",
     "output_type": "stream",
     "text": [
      "Epoch 1/30\n",
      "1719/1719 [==============================] - 4s 2ms/step - loss: 0.7117 - accuracy: 0.7663 - val_loss: 0.5147 - val_accuracy: 0.8238\n",
      "Epoch 2/30\n",
      "1719/1719 [==============================] - 3s 2ms/step - loss: 0.4861 - accuracy: 0.8308 - val_loss: 0.4546 - val_accuracy: 0.8384\n",
      "Epoch 3/30\n",
      "1719/1719 [==============================] - 3s 2ms/step - loss: 0.4423 - accuracy: 0.8447 - val_loss: 0.4026 - val_accuracy: 0.8636\n",
      "Epoch 4/30\n",
      "1719/1719 [==============================] - 3s 2ms/step - loss: 0.4151 - accuracy: 0.8541 - val_loss: 0.3889 - val_accuracy: 0.8646\n",
      "Epoch 5/30\n",
      "1719/1719 [==============================] - 3s 2ms/step - loss: 0.3921 - accuracy: 0.8627 - val_loss: 0.3799 - val_accuracy: 0.8674\n",
      "Epoch 6/30\n",
      "1719/1719 [==============================] - 3s 2ms/step - loss: 0.3762 - accuracy: 0.8675 - val_loss: 0.3614 - val_accuracy: 0.8728\n",
      "Epoch 7/30\n",
      "1719/1719 [==============================] - 3s 2ms/step - loss: 0.3628 - accuracy: 0.8722 - val_loss: 0.3516 - val_accuracy: 0.8746\n",
      "Epoch 8/30\n",
      "1719/1719 [==============================] - 4s 2ms/step - loss: 0.3502 - accuracy: 0.8756 - val_loss: 0.3455 - val_accuracy: 0.8778\n",
      "Epoch 9/30\n",
      "1719/1719 [==============================] - 4s 3ms/step - loss: 0.3411 - accuracy: 0.8780 - val_loss: 0.3510 - val_accuracy: 0.8750\n",
      "Epoch 10/30\n",
      "1719/1719 [==============================] - 4s 2ms/step - loss: 0.3323 - accuracy: 0.8815 - val_loss: 0.3358 - val_accuracy: 0.8820\n",
      "Epoch 11/30\n",
      "1719/1719 [==============================] - 4s 2ms/step - loss: 0.3236 - accuracy: 0.8840 - val_loss: 0.3553 - val_accuracy: 0.8718\n",
      "Epoch 12/30\n",
      "1719/1719 [==============================] - 4s 2ms/step - loss: 0.3158 - accuracy: 0.8867 - val_loss: 0.3314 - val_accuracy: 0.8800\n",
      "Epoch 13/30\n",
      "1719/1719 [==============================] - 3s 2ms/step - loss: 0.3084 - accuracy: 0.8887 - val_loss: 0.3267 - val_accuracy: 0.8840\n",
      "Epoch 14/30\n",
      "1719/1719 [==============================] - 3s 2ms/step - loss: 0.3027 - accuracy: 0.8913 - val_loss: 0.3177 - val_accuracy: 0.8850\n",
      "Epoch 15/30\n",
      "1719/1719 [==============================] - 3s 2ms/step - loss: 0.2957 - accuracy: 0.8924 - val_loss: 0.3165 - val_accuracy: 0.8842\n",
      "Epoch 16/30\n",
      "1719/1719 [==============================] - 3s 2ms/step - loss: 0.2905 - accuracy: 0.8951 - val_loss: 0.3187 - val_accuracy: 0.8866\n",
      "Epoch 17/30\n",
      "1719/1719 [==============================] - 3s 2ms/step - loss: 0.2848 - accuracy: 0.8975 - val_loss: 0.3126 - val_accuracy: 0.8872\n",
      "Epoch 18/30\n",
      "1719/1719 [==============================] - 3s 2ms/step - loss: 0.2790 - accuracy: 0.8993 - val_loss: 0.3212 - val_accuracy: 0.8800\n",
      "Epoch 19/30\n",
      "1719/1719 [==============================] - 3s 2ms/step - loss: 0.2740 - accuracy: 0.9017 - val_loss: 0.3078 - val_accuracy: 0.8876\n",
      "Epoch 20/30\n",
      "1719/1719 [==============================] - 3s 2ms/step - loss: 0.2687 - accuracy: 0.9036 - val_loss: 0.3217 - val_accuracy: 0.8834\n",
      "Epoch 21/30\n",
      "1719/1719 [==============================] - 3s 2ms/step - loss: 0.2641 - accuracy: 0.9051 - val_loss: 0.3110 - val_accuracy: 0.8878\n",
      "Epoch 22/30\n",
      "1719/1719 [==============================] - 4s 2ms/step - loss: 0.2590 - accuracy: 0.9072 - val_loss: 0.3021 - val_accuracy: 0.8924\n",
      "Epoch 23/30\n",
      "1719/1719 [==============================] - 3s 2ms/step - loss: 0.2548 - accuracy: 0.9078 - val_loss: 0.2986 - val_accuracy: 0.8956\n",
      "Epoch 24/30\n",
      "1719/1719 [==============================] - 4s 2ms/step - loss: 0.2506 - accuracy: 0.9101 - val_loss: 0.2991 - val_accuracy: 0.8948\n",
      "Epoch 25/30\n",
      "1719/1719 [==============================] - 4s 2ms/step - loss: 0.2465 - accuracy: 0.9114 - val_loss: 0.3131 - val_accuracy: 0.8876\n",
      "Epoch 26/30\n",
      "1719/1719 [==============================] - 4s 2ms/step - loss: 0.2432 - accuracy: 0.9119 - val_loss: 0.3171 - val_accuracy: 0.8886\n",
      "Epoch 27/30\n",
      "1719/1719 [==============================] - 3s 2ms/step - loss: 0.2390 - accuracy: 0.9140 - val_loss: 0.3051 - val_accuracy: 0.8922\n",
      "Epoch 28/30\n",
      "1719/1719 [==============================] - 3s 2ms/step - loss: 0.2339 - accuracy: 0.9156 - val_loss: 0.3020 - val_accuracy: 0.8902\n",
      "Epoch 29/30\n",
      "1719/1719 [==============================] - 3s 2ms/step - loss: 0.2309 - accuracy: 0.9174 - val_loss: 0.3084 - val_accuracy: 0.8902\n",
      "Epoch 30/30\n",
      "1719/1719 [==============================] - 3s 2ms/step - loss: 0.2278 - accuracy: 0.9174 - val_loss: 0.3027 - val_accuracy: 0.8928\n",
      "Model parameters -->\n",
      " {'verbose': 1, 'epochs': 30, 'steps': 1719}\n",
      "\n",
      "Model list of epochs it went through -->\n",
      " [0, 1, 2, 3, 4, 5, 6, 7, 8, 9, 10, 11, 12, 13, 14, 15, 16, 17, 18, 19, 20, 21, 22, 23, 24, 25, 26, 27, 28, 29]\n",
      "\n",
      "Models loss and extra metrics it measured at the end of each epoch -->\n",
      " {'loss': [0.711728572845459, 0.4860767424106598, 0.4423355162143707, 0.41510137915611267, 0.3920917510986328, 0.37616971135139465, 0.36283206939697266, 0.35018646717071533, 0.3411300778388977, 0.3323027491569519, 0.3236175775527954, 0.3157534897327423, 0.30840811133384705, 0.30266380310058594, 0.2956523895263672, 0.2904868721961975, 0.28480952978134155, 0.27896934747695923, 0.27404308319091797, 0.2687091827392578, 0.26414725184440613, 0.25900551676750183, 0.25475019216537476, 0.2506316900253296, 0.24651195108890533, 0.24317331612110138, 0.2390006184577942, 0.23388777673244476, 0.23089715838432312, 0.22784124314785004], 'accuracy': [0.7662909030914307, 0.8307999968528748, 0.8447090983390808, 0.8540727496147156, 0.8626545667648315, 0.8675272464752197, 0.8722363710403442, 0.8755636215209961, 0.8779818415641785, 0.8814727067947388, 0.8839818239212036, 0.8866545557975769, 0.8887090682983398, 0.8912727236747742, 0.8924182057380676, 0.8950726985931396, 0.897490918636322, 0.899254560470581, 0.9017454385757446, 0.9036363363265991, 0.9050545692443848, 0.9071817994117737, 0.907800018787384, 0.9100909233093262, 0.9113818407058716, 0.9119272828102112, 0.9139636158943176, 0.9156363606452942, 0.9174363613128662, 0.9173818230628967], 'val_loss': [0.5147193074226379, 0.4545626938343048, 0.40258511900901794, 0.38891342282295227, 0.3799213469028473, 0.3614174723625183, 0.3516483008861542, 0.34553587436676025, 0.3509804606437683, 0.33584704995155334, 0.35533466935157776, 0.33143535256385803, 0.32665807008743286, 0.31767576932907104, 0.3165343999862671, 0.31873947381973267, 0.3125939965248108, 0.32115015387535095, 0.30780091881752014, 0.32173261046409607, 0.3109568953514099, 0.3020695447921753, 0.29858464002609253, 0.2991383969783783, 0.31312963366508484, 0.317077100276947, 0.3050571382045746, 0.30202218890190125, 0.3084167242050171, 0.30272218585014343], 'val_accuracy': [0.8238000273704529, 0.8384000062942505, 0.8636000156402588, 0.8646000027656555, 0.8673999905586243, 0.8727999925613403, 0.8745999932289124, 0.8777999877929688, 0.875, 0.8820000290870667, 0.8718000054359436, 0.8799999952316284, 0.8840000033378601, 0.8849999904632568, 0.8841999769210815, 0.8866000175476074, 0.8871999979019165, 0.8799999952316284, 0.8876000046730042, 0.883400022983551, 0.8877999782562256, 0.8924000263214111, 0.8956000208854675, 0.8948000073432922, 0.8876000046730042, 0.8885999917984009, 0.8921999931335449, 0.8902000188827515, 0.8902000188827515, 0.892799973487854]}\n",
      "\n",
      "Visualization\n"
     ]
    },
    {
     "data": {
      "image/png": "[encoded data removed]",
      "text/plain": [
       "<Figure size 1440x1080 with 1 Axes>"
      ]
     },
     "metadata": {
      "needs_background": "light"
     },
     "output_type": "display_data"
    }
   ],
   "source": [
    "\n",
    "history = fit_model(\n",
    "    model_we_have=model,\n",
    "    x_train_df=X_train,  \n",
    "    y_train_df=y_train,\n",
    "    x_valid_df=X_valid,  \n",
    "    y_valid_df=y_valid,\n",
    ")"
   ]
  },
  {
   "cell_type": "markdown",
   "metadata": {},
   "source": [
    "## Evaluate our model and make predictions."
   ]
  },
  {
   "cell_type": "code",
   "execution_count": 8,
   "metadata": {},
   "outputs": [
    {
     "name": "stdout",
     "output_type": "stream",
     "text": [
      "313/313 [==============================] - 1s 2ms/step - loss: 78.5248 - accuracy: 0.8179\n"
     ]
    },
    {
     "data": {
      "text/plain": [
       "[78.52484893798828, 0.8179000020027161]"
      ]
     },
     "execution_count": 8,
     "metadata": {},
     "output_type": "execute_result"
    }
   ],
   "source": [
    "\"\"\"\n",
    "Evaluate the model on test sets\n",
    "\"\"\"\n",
    "\n",
    "model.evaluate(X_test, y_test)"
   ]
  },
  {
   "cell_type": "code",
   "execution_count": 14,
   "metadata": {},
   "outputs": [
    {
     "name": "stdout",
     "output_type": "stream",
     "text": [
      "1/1 [==============================] - 0s 20ms/step\n",
      "[[0. 0. 0. 0. 0. 0. 0. 0. 0. 1.]\n",
      " [0. 0. 1. 0. 0. 0. 0. 0. 0. 0.]\n",
      " [0. 1. 0. 0. 0. 0. 0. 0. 0. 0.]\n",
      " [0. 1. 0. 0. 0. 0. 0. 0. 0. 0.]\n",
      " [0. 0. 0. 0. 0. 0. 1. 0. 0. 0.]]\n",
      "The model estimates one probability per class, from class 0 to class 9. \n",
      "For example, for the first image it estimates that the probability of class 9 (ankle boot) is 100%\n",
      "For the second image the probability of class 2 (sneaker) is 100%,\n"
     ]
    }
   ],
   "source": [
    "\"\"\"\n",
    "Using the Model to Make Predictions\n",
    "\"\"\"\n",
    "X_new = X_test[:5]\n",
    "y_proba = model.predict(X_new)\n",
    "print(y_proba.round(1))\n",
    "\n",
    "print(\"The model estimates one probability per class, from class 0 to class 9. \")\n",
    "print(\"For example, for the first image it estimates that the probability of class 9 (ankle boot) is 100%\")\n",
    "print(\"For the second image the probability of class 2 (sneaker) is 100%,\")\n"
   ]
  },
  {
   "cell_type": "code",
   "execution_count": 21,
   "metadata": {},
   "outputs": [
    {
     "name": "stdout",
     "output_type": "stream",
     "text": [
      "1/1 [==============================] - 0s 18ms/step\n",
      "Predicted classification [9 2 1 1 6]\n"
     ]
    }
   ],
   "source": [
    "\"\"\"If you only care about the class with the highest estimated\n",
    "probability (even if that probability is quite low) then you can use the predict_classes() method instead:\"\"\"\n",
    "\n",
    "y_pred = (model.predict(X_new) > 0.5).astype(\"int32\")\n",
    "max_prob_index = np.argmax(y_pred, axis=1)\n",
    "print(\"Predicted classification\", max_prob_index)\n",
    "#print(y_pred)\n",
    "#print(np.array(class_names)[y_pred])\n"
   ]
  },
  {
   "cell_type": "code",
   "execution_count": 22,
   "metadata": {},
   "outputs": [
    {
     "name": "stdout",
     "output_type": "stream",
     "text": [
      "Check the actual classification on test [9 2 1 1 6]\n"
     ]
    }
   ],
   "source": [
    "y_new = y_test[:5]\n",
    "print(\"Check the actual classification on test\", y_new)"
   ]
  },
  {
   "cell_type": "code",
   "execution_count": null,
   "metadata": {},
   "outputs": [],
   "source": []
  }
 ],
 "metadata": {
  "kernelspec": {
   "display_name": "Python 3.10.4 64-bit",
   "language": "python",
   "name": "python3"
  },
  "language_info": {
   "codemirror_mode": {
    "name": "ipython",
    "version": 3
   },
   "file_extension": ".py",
   "mimetype": "text/x-python",
   "name": "python",
   "nbconvert_exporter": "python",
   "pygments_lexer": "ipython3",
   "version": "3.10.4"
  },
  "orig_nbformat": 4,
  "vscode": {
   "interpreter": {
    "hash": "f65f015e90684393145548f440bd1f57356ff2bff1ebecc249e7acd74a09a39e"
   }
  }
 },
 "nbformat": 4,
 "nbformat_minor": 2
}
